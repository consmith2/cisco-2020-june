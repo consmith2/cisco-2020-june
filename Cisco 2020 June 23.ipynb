{
 "cells": [
  {
   "cell_type": "code",
   "execution_count": 1,
   "metadata": {},
   "outputs": [
    {
     "name": "stdout",
     "output_type": "stream",
     "text": [
      "Populating the interactive namespace from numpy and matplotlib\n"
     ]
    }
   ],
   "source": [
    "%pylab inline\n",
    "import pandas as pd\n",
    "from pandas import Series, DataFrame"
   ]
  },
  {
   "cell_type": "code",
   "execution_count": 3,
   "metadata": {},
   "outputs": [
    {
     "data": {
      "text/plain": [
       "0     10\n",
       "1     20\n",
       "2     30\n",
       "3     40\n",
       "4     50\n",
       "5     60\n",
       "6     70\n",
       "7     80\n",
       "8     90\n",
       "9    100\n",
       "dtype: int32"
      ]
     },
     "execution_count": 3,
     "metadata": {},
     "output_type": "execute_result"
    }
   ],
   "source": [
    "s = Series([10, 20, 30, 40, 50, 60, 70, 80, 90, 100], dtype=np.int32)\n",
    "s"
   ]
  },
  {
   "cell_type": "code",
   "execution_count": 4,
   "metadata": {},
   "outputs": [
    {
     "data": {
      "text/plain": [
       "0     10.000\n",
       "1     20.000\n",
       "2     30.000\n",
       "3     40.000\n",
       "4    123.456\n",
       "5     60.000\n",
       "6     70.000\n",
       "7     80.000\n",
       "8     90.000\n",
       "9    100.000\n",
       "dtype: float64"
      ]
     },
     "execution_count": 4,
     "metadata": {},
     "output_type": "execute_result"
    }
   ],
   "source": [
    "s.loc[4] = 123.456\n",
    "s"
   ]
  },
  {
   "cell_type": "code",
   "execution_count": 5,
   "metadata": {},
   "outputs": [
    {
     "data": {
      "text/plain": [
       "0     10\n",
       "1     20\n",
       "2     30\n",
       "3     40\n",
       "4     50\n",
       "5     60\n",
       "6     70\n",
       "7     80\n",
       "8     90\n",
       "9    100\n",
       "dtype: int32"
      ]
     },
     "execution_count": 5,
     "metadata": {},
     "output_type": "execute_result"
    }
   ],
   "source": [
    "s = Series([10, 20, 30, 40, 50, 60, 70, 80, 90, 100], dtype=np.int32)\n",
    "s"
   ]
  },
  {
   "cell_type": "code",
   "execution_count": 6,
   "metadata": {},
   "outputs": [
    {
     "data": {
      "text/plain": [
       "0     10.0\n",
       "1     20.0\n",
       "2     30.0\n",
       "3     40.0\n",
       "4      NaN\n",
       "5     60.0\n",
       "6     70.0\n",
       "7     80.0\n",
       "8     90.0\n",
       "9    100.0\n",
       "dtype: float64"
      ]
     },
     "execution_count": 6,
     "metadata": {},
     "output_type": "execute_result"
    }
   ],
   "source": [
    "s.loc[4] = nan\n",
    "s"
   ]
  },
  {
   "cell_type": "code",
   "execution_count": 7,
   "metadata": {},
   "outputs": [
    {
     "data": {
      "text/plain": [
       "500.0"
      ]
     },
     "execution_count": 7,
     "metadata": {},
     "output_type": "execute_result"
    }
   ],
   "source": [
    "s.sum() "
   ]
  },
  {
   "cell_type": "code",
   "execution_count": 9,
   "metadata": {},
   "outputs": [
    {
     "data": {
      "text/plain": [
       "nan"
      ]
     },
     "execution_count": 9,
     "metadata": {},
     "output_type": "execute_result"
    }
   ],
   "source": [
    "s.sum(skipna=False)"
   ]
  },
  {
   "cell_type": "code",
   "execution_count": 8,
   "metadata": {},
   "outputs": [
    {
     "name": "stdout",
     "output_type": "stream",
     "text": [
      "Help on method sum in module pandas.core.series:\n",
      "\n",
      "sum(axis=None, skipna=None, level=None, numeric_only=None, min_count=0, **kwargs) method of pandas.core.series.Series instance\n",
      "    Return the sum of the values for the requested axis.\n",
      "    \n",
      "                This is equivalent to the method ``numpy.sum``.\n",
      "    \n",
      "    Parameters\n",
      "    ----------\n",
      "    axis : {index (0)}\n",
      "        Axis for the function to be applied on.\n",
      "    skipna : bool, default True\n",
      "        Exclude NA/null values when computing the result.\n",
      "    level : int or level name, default None\n",
      "        If the axis is a MultiIndex (hierarchical), count along a\n",
      "        particular level, collapsing into a scalar.\n",
      "    numeric_only : bool, default None\n",
      "        Include only float, int, boolean columns. If None, will attempt to use\n",
      "        everything, then use only numeric data. Not implemented for Series.\n",
      "    min_count : int, default 0\n",
      "        The required number of valid values to perform the operation. If fewer than\n",
      "        ``min_count`` non-NA values are present the result will be NA.\n",
      "    \n",
      "        .. versionadded:: 0.22.0\n",
      "    \n",
      "           Added with the default being 0. This means the sum of an all-NA\n",
      "           or empty Series is 0, and the product of an all-NA or empty\n",
      "           Series is 1.\n",
      "    **kwargs\n",
      "        Additional keyword arguments to be passed to the function.\n",
      "    \n",
      "    Returns\n",
      "    -------\n",
      "    scalar or Series (if level specified)\n",
      "    \n",
      "    See Also\n",
      "    --------\n",
      "    Series.sum : Return the sum.\n",
      "    Series.min : Return the minimum.\n",
      "    Series.max : Return the maximum.\n",
      "    Series.idxmin : Return the index of the minimum.\n",
      "    Series.idxmax : Return the index of the maximum.\n",
      "    DataFrame.sum : Return the sum over the requested axis.\n",
      "    DataFrame.min : Return the minimum over the requested axis.\n",
      "    DataFrame.max : Return the maximum over the requested axis.\n",
      "    DataFrame.idxmin : Return the index of the minimum over the requested axis.\n",
      "    DataFrame.idxmax : Return the index of the maximum over the requested axis.\n",
      "    \n",
      "    Examples\n",
      "    --------\n",
      "    >>> idx = pd.MultiIndex.from_arrays([\n",
      "    ...     ['warm', 'warm', 'cold', 'cold'],\n",
      "    ...     ['dog', 'falcon', 'fish', 'spider']],\n",
      "    ...     names=['blooded', 'animal'])\n",
      "    >>> s = pd.Series([4, 2, 0, 8], name='legs', index=idx)\n",
      "    >>> s\n",
      "    blooded  animal\n",
      "    warm     dog       4\n",
      "             falcon    2\n",
      "    cold     fish      0\n",
      "             spider    8\n",
      "    Name: legs, dtype: int64\n",
      "    \n",
      "    >>> s.sum()\n",
      "    14\n",
      "    \n",
      "    Sum using level names, as well as indices.\n",
      "    \n",
      "    >>> s.sum(level='blooded')\n",
      "    blooded\n",
      "    warm    6\n",
      "    cold    8\n",
      "    Name: legs, dtype: int64\n",
      "    \n",
      "    >>> s.sum(level=0)\n",
      "    blooded\n",
      "    warm    6\n",
      "    cold    8\n",
      "    Name: legs, dtype: int64\n",
      "    \n",
      "    By default, the sum of an empty or all-NA Series is ``0``.\n",
      "    \n",
      "    >>> pd.Series([]).sum()  # min_count=0 is the default\n",
      "    0.0\n",
      "    \n",
      "    This can be controlled with the ``min_count`` parameter. For example, if\n",
      "    you'd like the sum of an empty series to be NaN, pass ``min_count=1``.\n",
      "    \n",
      "    >>> pd.Series([]).sum(min_count=1)\n",
      "    nan\n",
      "    \n",
      "    Thanks to the ``skipna`` parameter, ``min_count`` handles all-NA and\n",
      "    empty series identically.\n",
      "    \n",
      "    >>> pd.Series([np.nan]).sum()\n",
      "    0.0\n",
      "    \n",
      "    >>> pd.Series([np.nan]).sum(min_count=1)\n",
      "    nan\n",
      "\n"
     ]
    }
   ],
   "source": [
    "help(s.sum)"
   ]
  },
  {
   "cell_type": "code",
   "execution_count": 10,
   "metadata": {},
   "outputs": [
    {
     "data": {
      "text/plain": [
       "0     10.0\n",
       "1     20.0\n",
       "2     30.0\n",
       "3     40.0\n",
       "4      NaN\n",
       "5     60.0\n",
       "6     70.0\n",
       "7     80.0\n",
       "8     90.0\n",
       "9    100.0\n",
       "dtype: float64"
      ]
     },
     "execution_count": 10,
     "metadata": {},
     "output_type": "execute_result"
    }
   ],
   "source": [
    "s"
   ]
  },
  {
   "cell_type": "code",
   "execution_count": 11,
   "metadata": {},
   "outputs": [
    {
     "data": {
      "text/plain": [
       "0     10.0\n",
       "1     20.0\n",
       "2     30.0\n",
       "3     40.0\n",
       "5     60.0\n",
       "6     70.0\n",
       "7     80.0\n",
       "8     90.0\n",
       "9    100.0\n",
       "dtype: float64"
      ]
     },
     "execution_count": 11,
     "metadata": {},
     "output_type": "execute_result"
    }
   ],
   "source": [
    "s.dropna()   # return a new series without any of the old series' nans"
   ]
  },
  {
   "cell_type": "code",
   "execution_count": 12,
   "metadata": {},
   "outputs": [
    {
     "data": {
      "text/plain": [
       "0     10.0\n",
       "1     20.0\n",
       "2     30.0\n",
       "3     40.0\n",
       "4      NaN\n",
       "5     60.0\n",
       "6     70.0\n",
       "7     80.0\n",
       "8     90.0\n",
       "9    100.0\n",
       "dtype: float64"
      ]
     },
     "execution_count": 12,
     "metadata": {},
     "output_type": "execute_result"
    }
   ],
   "source": [
    "s"
   ]
  },
  {
   "cell_type": "code",
   "execution_count": 13,
   "metadata": {},
   "outputs": [],
   "source": [
    "# s.dropna(inplace=True)  # return None, modify s -- considered passe in the world of Pandas"
   ]
  },
  {
   "cell_type": "code",
   "execution_count": 14,
   "metadata": {},
   "outputs": [
    {
     "data": {
      "text/plain": [
       "0       10.0\n",
       "1       20.0\n",
       "2       30.0\n",
       "3       40.0\n",
       "4    12345.0\n",
       "5       60.0\n",
       "6       70.0\n",
       "7       80.0\n",
       "8       90.0\n",
       "9      100.0\n",
       "dtype: float64"
      ]
     },
     "execution_count": 14,
     "metadata": {},
     "output_type": "execute_result"
    }
   ],
   "source": [
    "# to replace nan, I have fillna\n",
    "s.fillna(12345)"
   ]
  },
  {
   "cell_type": "code",
   "execution_count": 15,
   "metadata": {},
   "outputs": [
    {
     "data": {
      "text/plain": [
       "0     10.0\n",
       "1     20.0\n",
       "2     30.0\n",
       "3     40.0\n",
       "4      NaN\n",
       "5     60.0\n",
       "6     70.0\n",
       "7     80.0\n",
       "8     90.0\n",
       "9    100.0\n",
       "dtype: float64"
      ]
     },
     "execution_count": 15,
     "metadata": {},
     "output_type": "execute_result"
    }
   ],
   "source": [
    "s"
   ]
  },
  {
   "cell_type": "code",
   "execution_count": 16,
   "metadata": {},
   "outputs": [
    {
     "data": {
      "text/plain": [
       "0     10.000000\n",
       "1     20.000000\n",
       "2     30.000000\n",
       "3     40.000000\n",
       "4     55.555556\n",
       "5     60.000000\n",
       "6     70.000000\n",
       "7     80.000000\n",
       "8     90.000000\n",
       "9    100.000000\n",
       "dtype: float64"
      ]
     },
     "execution_count": 16,
     "metadata": {},
     "output_type": "execute_result"
    }
   ],
   "source": [
    "s.fillna(s.mean())"
   ]
  },
  {
   "cell_type": "code",
   "execution_count": 17,
   "metadata": {},
   "outputs": [
    {
     "data": {
      "text/plain": [
       "0     10.0\n",
       "1     20.0\n",
       "2     30.0\n",
       "3     40.0\n",
       "4      NaN\n",
       "5     60.0\n",
       "6     70.0\n",
       "7     80.0\n",
       "8     90.0\n",
       "9    100.0\n",
       "dtype: float64"
      ]
     },
     "execution_count": 17,
     "metadata": {},
     "output_type": "execute_result"
    }
   ],
   "source": [
    "s"
   ]
  },
  {
   "cell_type": "code",
   "execution_count": 18,
   "metadata": {},
   "outputs": [
    {
     "data": {
      "text/plain": [
       "count      9.000000\n",
       "mean      55.555556\n",
       "std       32.058973\n",
       "min       10.000000\n",
       "25%       30.000000\n",
       "50%       60.000000\n",
       "75%       80.000000\n",
       "max      100.000000\n",
       "dtype: float64"
      ]
     },
     "execution_count": 18,
     "metadata": {},
     "output_type": "execute_result"
    }
   ],
   "source": [
    "s.describe()"
   ]
  },
  {
   "cell_type": "code",
   "execution_count": 19,
   "metadata": {},
   "outputs": [
    {
     "data": {
      "text/plain": [
       "count     10.000000\n",
       "mean      50.100000\n",
       "std       34.802458\n",
       "min        1.000000\n",
       "25%       22.500000\n",
       "50%       50.000000\n",
       "75%       77.500000\n",
       "max      100.000000\n",
       "dtype: float64"
      ]
     },
     "execution_count": 19,
     "metadata": {},
     "output_type": "execute_result"
    }
   ],
   "source": [
    "s.fillna(1).describe()"
   ]
  },
  {
   "cell_type": "code",
   "execution_count": 20,
   "metadata": {},
   "outputs": [
    {
     "data": {
      "text/plain": [
       "0     10.0\n",
       "1     20.0\n",
       "2     30.0\n",
       "3     40.0\n",
       "4      NaN\n",
       "5     60.0\n",
       "6     70.0\n",
       "7     80.0\n",
       "8     90.0\n",
       "9    100.0\n",
       "dtype: float64"
      ]
     },
     "execution_count": 20,
     "metadata": {},
     "output_type": "execute_result"
    }
   ],
   "source": [
    "s"
   ]
  },
  {
   "cell_type": "code",
   "execution_count": 21,
   "metadata": {},
   "outputs": [
    {
     "data": {
      "text/plain": [
       "<matplotlib.axes._subplots.AxesSubplot at 0x12a2c8310>"
      ]
     },
     "execution_count": 21,
     "metadata": {},
     "output_type": "execute_result"
    },
    {
     "data": {
      "image/png": "[encoded data removed]",
      "text/plain": [
       "<Figure size 432x288 with 1 Axes>"
      ]
     },
     "metadata": {
      "needs_background": "light"
     },
     "output_type": "display_data"
    }
   ],
   "source": [
    "s.plot.line()"
   ]
  },
  {
   "cell_type": "code",
   "execution_count": null,
   "metadata": {},
   "outputs": [],
   "source": []
  }
 ],
 "metadata": {
  "kernelspec": {
   "display_name": "Python 3",
   "language": "python",
   "name": "python3"
  },
  "language_info": {
   "codemirror_mode": {
    "name": "ipython",
    "version": 3
   },
   "file_extension": ".py",
   "mimetype": "text/x-python",
   "name": "python",
   "nbconvert_exporter": "python",
   "pygments_lexer": "ipython3",
   "version": "3.8.3"
  }
 },
 "nbformat": 4,
 "nbformat_minor": 4
}
